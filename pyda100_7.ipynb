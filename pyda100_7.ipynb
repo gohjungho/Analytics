{
 "cells": [
  {
   "cell_type": "markdown",
   "metadata": {},
   "source": [
    "7장 물류 네트워크 최적 설계를 위한 테크닉 "
   ]
  },
  {
   "cell_type": "markdown",
   "metadata": {},
   "source": [
    "테크닉 61. 운송 최적화 문제를 풀어보자. "
   ]
  },
  {
   "cell_type": "code",
   "execution_count": 1,
   "metadata": {},
   "outputs": [
    {
     "name": "stdout",
     "output_type": "stream",
     "text": [
      "Requirement already satisfied: ortoolpy in c:\\users\\82109\\anaconda3\\lib\\site-packages (0.2.38)\n",
      "Requirement already satisfied: more-itertools<9.0.0,>=8.6.0 in c:\\users\\82109\\anaconda3\\lib\\site-packages (from ortoolpy) (8.6.0)\n",
      "Requirement already satisfied: pandas<2.0.0,>=1.1.4 in c:\\users\\82109\\anaconda3\\lib\\site-packages (from ortoolpy) (1.2.4)\n",
      "Requirement already satisfied: pulp<3.0.0,>=2.3.1 in c:\\users\\82109\\anaconda3\\lib\\site-packages (from ortoolpy) (2.4)\n",
      "Requirement already satisfied: pytz>=2017.3 in c:\\users\\82109\\anaconda3\\lib\\site-packages (from pandas<2.0.0,>=1.1.4->ortoolpy) (2020.1)\n",
      "Requirement already satisfied: python-dateutil>=2.7.3 in c:\\users\\82109\\anaconda3\\lib\\site-packages (from pandas<2.0.0,>=1.1.4->ortoolpy) (2.8.1)\n",
      "Requirement already satisfied: numpy>=1.16.5 in c:\\users\\82109\\anaconda3\\lib\\site-packages (from pandas<2.0.0,>=1.1.4->ortoolpy) (1.19.2)\n",
      "Requirement already satisfied: amply>=0.1.2 in c:\\users\\82109\\anaconda3\\lib\\site-packages (from pulp<3.0.0,>=2.3.1->ortoolpy) (0.1.4)\n",
      "Requirement already satisfied: six>=1.5 in c:\\users\\82109\\anaconda3\\lib\\site-packages (from python-dateutil>=2.7.3->pandas<2.0.0,>=1.1.4->ortoolpy) (1.15.0)\n",
      "Requirement already satisfied: docutils>=0.3 in c:\\users\\82109\\anaconda3\\lib\\site-packages (from amply>=0.1.2->pulp<3.0.0,>=2.3.1->ortoolpy) (0.16)\n",
      "Requirement already satisfied: pyparsing in c:\\users\\82109\\anaconda3\\lib\\site-packages (from amply>=0.1.2->pulp<3.0.0,>=2.3.1->ortoolpy) (2.4.7)\n"
     ]
    }
   ],
   "source": [
    "# 최적화 계산 라이브러리(pulp, ortoolpy)를 사용해 운송 최적화 문제를 풀어보자 \n",
    "\n",
    "# !pip install pulp\n",
    "!pip install ortoolpy"
   ]
  },
  {
   "cell_type": "code",
   "execution_count": 2,
   "metadata": {},
   "outputs": [],
   "source": [
    "import numpy as np \n",
    "import pandas as pd\n",
    "from itertools import product \n",
    "from pulp import LpVariable, lpSum, value\n",
    "from ortoolpy import model_min, addvars, addvals"
   ]
  },
  {
   "cell_type": "code",
   "execution_count": 3,
   "metadata": {},
   "outputs": [],
   "source": [
    "# 데이터 불러오기 \n",
    "df_tc = pd.read_csv('trans_cost.csv', index_col=\"공장\")\n",
    "df_demand = pd.read_csv('demand.csv') \n",
    "df_supply = pd.read_csv('supply.csv')"
   ]
  },
  {
   "cell_type": "code",
   "execution_count": 4,
   "metadata": {},
   "outputs": [
    {
     "data": {
      "text/plain": [
       "array([37, 12, 72,  9, 75])"
      ]
     },
     "execution_count": 4,
     "metadata": {},
     "output_type": "execute_result"
    }
   ],
   "source": [
    "# 예측 가능한 난수 \n",
    "\n",
    "np.random.seed(1) # 얘가 없으면 말 그대로 난수 발생. 하지만 얘가 있으므로 동일값 발생\n",
    "np.random.randint(99,size=5) "
   ]
  },
  {
   "cell_type": "code",
   "execution_count": 5,
   "metadata": {},
   "outputs": [],
   "source": [
    "# 초기 설정 # \n",
    "np.random.seed(1) # 같은 형태의 난수 발생 \n",
    "nw = len(df_tc.index)\n",
    "nf = len(df_tc.columns)\n",
    "pr = list(product(range(nw), range(nf)))"
   ]
  },
  {
   "cell_type": "code",
   "execution_count": 6,
   "metadata": {},
   "outputs": [
    {
     "data": {
      "text/plain": [
       "1"
      ]
     },
     "execution_count": 6,
     "metadata": {},
     "output_type": "execute_result"
    }
   ],
   "source": [
    "# 수리 모델 작성 # \n",
    "m1 = model_min() # 최소화 실행 모델 \n",
    "\n",
    "# m1 lpSum 함수를 이용해 정의 \n",
    "# df_tc는 운송정보 \n",
    "v1 = {(i, j):LpVariable('v%d_%d'%(i,j), lowBound=0) for i,j in pr} \n",
    "m1 += lpSum(df_tc.iloc[i][j] * v1[i,j] for i,j in pr)\n",
    "\n",
    "# 제약 조건 정의 \n",
    "for i in range(nw): # 수요량을 만족 시키는 제약조건 \n",
    "    m1 += lpSum(v1[i,j] for j in range(nf)) <= df_supply.iloc[0][i]\n",
    "for j in range(nf): # 공급 한계를 넘지 않는 제약조건 \n",
    "    m1 += lpSum(v1[i,j] for i in range(nw)) >= df_demand.iloc[0][j]\n",
    "m1.solve() # 최적화문제를 solve()로 해결. 변수 v1의 최적의 운송 비용을 구한다. \n",
    "\n",
    "# 총 운송비용은 1296만이며, 앞에서 구한 1433만원보다 현저히 낮은 비용을 얻을 수 있다."
   ]
  },
  {
   "cell_type": "code",
   "execution_count": 7,
   "metadata": {},
   "outputs": [
    {
     "name": "stdout",
     "output_type": "stream",
     "text": [
      "    F1  F2  F3  F4\n",
      "공장                \n",
      "W1  28   7   0   0\n",
      "W2   0   0  31   5\n",
      "W3   0  22   0  20\n",
      "총 운송 비용: 1296.0\n"
     ]
    }
   ],
   "source": [
    "# 총 운송 비용 계산 # \n",
    "df_tr_sol = df_tc.copy()\n",
    "total_cost = 0\n",
    "for k, x in v1.items():\n",
    "    i, j = k[0], k[1]\n",
    "    df_tr_sol.iloc[i][j] = value(x)\n",
    "    total_cost += df_tc.iloc[i][j] * value(x)\n",
    "    \n",
    "print(df_tr_sol)\n",
    "print(\"총 운송 비용: \" + str(total_cost))"
   ]
  },
  {
   "cell_type": "markdown",
   "metadata": {},
   "source": [
    "테크닉 62. 최적 운송 경로를 네트워크로 확인하자."
   ]
  },
  {
   "cell_type": "code",
   "execution_count": 8,
   "metadata": {},
   "outputs": [],
   "source": [
    "# 최적 운송 경로를 네트워크 가시화로 확인하기 \n",
    "import pandas as pd \n",
    "import numpy as np \n",
    "import matplotlib.pyplot as plt \n",
    "import networkx as nx "
   ]
  },
  {
   "cell_type": "code",
   "execution_count": 9,
   "metadata": {},
   "outputs": [],
   "source": [
    "# 데이터 불러오기 \n",
    "df_tr = pd.read_csv('trans_route.csv', index_col=\"공장\")\n",
    "df_pos = pd.read_csv('trans_route_pos.csv')"
   ]
  },
  {
   "cell_type": "code",
   "execution_count": 10,
   "metadata": {},
   "outputs": [],
   "source": [
    "# 객체 생성 \n",
    "G = nx.Graph()"
   ]
  },
  {
   "cell_type": "code",
   "execution_count": 11,
   "metadata": {},
   "outputs": [],
   "source": [
    "# 노드 생성 \n",
    "for i in range(len(df_pos.columns)):\n",
    "    G.add_node(df_pos.columns[i])"
   ]
  },
  {
   "cell_type": "code",
   "execution_count": 12,
   "metadata": {},
   "outputs": [],
   "source": [
    "# 엣지 설정 및 옛지의 가중치 리스트화      # 결과값 다름 수정 필요 \n",
    "num_pre = 0 \n",
    "edge_weights = [] \n",
    "size = 0.1\n",
    "for i in range(len(df_pos.columns)):\n",
    "    for j in range(len(df_pos.columns)):\n",
    "        if not (i == j):\n",
    "            # 엣지 추가 \n",
    "            G.add_edge(df_pos.columns[i], df_pos.columns[j])\n",
    "            # 엣지 가중치 추가 \n",
    "            if num_pre < len(G.edges):\n",
    "                num_pre = len(G.edges)\n",
    "                weight = 0\n",
    "                if (df_pos.columns[i] in df_tr.columns) and (df_pos.columns[j] in df_tr.index):\n",
    "                    if df_tr[df_pos.columns[i]][df_pos.columns[j]]:\n",
    "                        weight = df_tr[df_pos.columns[i]][df_pos.columns[j]] * size\n",
    "                elif (df_pos.columns[j] in df_tr.columns) and (df_pos.columns[i] in df_tr.index):\n",
    "                    if df_tr[df_pos.columns[j]][df_pos.columns[i]]:\n",
    "                        weight = df_tr[df_pos.columns[j]][df_pos.columns[i]] * size \n",
    "                edge_weights.append(weight)"
   ]
  },
  {
   "cell_type": "code",
   "execution_count": 13,
   "metadata": {},
   "outputs": [],
   "source": [
    "# 좌표 설정 \n",
    "pos = {} \n",
    "for i in range(len(df_pos.columns)):\n",
    "    node = df_pos.columns[i]\n",
    "    pos[node] = (df_pos[node][0], df_pos[node][1])"
   ]
  },
  {
   "cell_type": "code",
   "execution_count": 14,
   "metadata": {},
   "outputs": [
    {
     "data": {
      "image/png": "[encoded data removed]",
      "text/plain": [
       "<Figure size 432x288 with 1 Axes>"
      ]
     },
     "metadata": {},
     "output_type": "display_data"
    }
   ],
   "source": [
    "# 그리기 \n",
    "nx.draw(G, pos, with_labels=True, font_size=16, node_size=1000, node_color='k', font_color='w', width=edge_weights)\n",
    "\n",
    "# 표시 \n",
    "plt.show()"
   ]
  },
  {
   "cell_type": "markdown",
   "metadata": {},
   "source": [
    "테크닉 63. 최적 운송 경로가 제약 조건을 만족시키는지 확인하자 "
   ]
  },
  {
   "cell_type": "code",
   "execution_count": 15,
   "metadata": {},
   "outputs": [],
   "source": [
    "# 테크닉 60에서 작성한 제약조건을 계산하는 함수를 이용해 \n",
    "# 계산된 운송 경로가 제약 조건을 만족하는지 확인해보자. \n",
    "\n",
    "import pandas as pd\n",
    "import numpy as np \n",
    "\n",
    "# 데이터 불러오기 \n",
    "df_demand = pd.read_csv(\"demand.csv\")\n",
    "df_supply = pd.read_csv(\"supply.csv\")"
   ]
  },
  {
   "cell_type": "code",
   "execution_count": 16,
   "metadata": {},
   "outputs": [
    {
     "name": "stdout",
     "output_type": "stream",
     "text": [
      "수요조건 계산결과: [1. 1. 1. 1.]\n",
      "공급조건 계산결과: [1. 1. 1.]\n"
     ]
    }
   ],
   "source": [
    "# 제약 조건 계산 함수 \n",
    "# 수요측 \n",
    "def condition_demand(df_tr, df_demand):\n",
    "    flag = np.zeros(len(df_demand.columns))\n",
    "    for i in range(len(df_demand.columns)):\n",
    "        temp_sum = sum(df_tr[df_demand.columns[i]])\n",
    "        if (temp_sum >= df_demand.iloc[0][i]):\n",
    "            flag[i] = 1\n",
    "    return flag \n",
    "\n",
    "# 공급측 \n",
    "def condition_supply(df_tr, df_supply):\n",
    "    flag = np.zeros(len(df_supply.columns))\n",
    "    for i in range(len(df_supply.columns)):\n",
    "        temp_sum = sum(df_tr.loc[df_supply.columns[i]])\n",
    "        if temp_sum <= df_supply.iloc[0][i]:\n",
    "            flag[i] = 1\n",
    "    return flag \n",
    "\n",
    "print(\"수요조건 계산결과: \" + str(condition_demand(df_tr_sol, df_demand)))\n",
    "print(\"공급조건 계산결과: \" + str(condition_supply(df_tr_sol, df_supply)))"
   ]
  },
  {
   "cell_type": "markdown",
   "metadata": {},
   "source": [
    "테크닉 64. 생산 계획 데이터를 불러오자"
   ]
  },
  {
   "cell_type": "code",
   "execution_count": 17,
   "metadata": {},
   "outputs": [],
   "source": [
    "# 어떤 제품을 얼마나 만들 것인지 계획을 세워보자. \n",
    "\n",
    "import pandas as pd \n",
    "\n",
    "# 데이터 불러오기 \n",
    "df_material = pd.read_csv('product_plan_material.csv', index_col='제품')\n",
    "df_profit = pd.read_csv('product_plan_profit.csv', index_col='제품')\n",
    "df_stock = pd.read_csv('product_plan_stock.csv', index_col='항목')\n",
    "df_plan = pd.read_csv('product_plan.csv', index_col='제품')"
   ]
  },
  {
   "cell_type": "code",
   "execution_count": 18,
   "metadata": {},
   "outputs": [
    {
     "name": "stdout",
     "output_type": "stream",
     "text": [
      "     원료1  원료2  원료3\n",
      "제품                \n",
      "제품1    1    4    3\n",
      "제품2    2    4    1\n",
      "      이익\n",
      "제품      \n",
      "제품1  5.0\n",
      "제품2  4.0\n",
      "    원료1  원료2  원료3\n",
      "항목               \n",
      "재고   40   80   50\n",
      "      생산량\n",
      "제품       \n",
      "제품1    16\n",
      "제품2     0\n"
     ]
    }
   ],
   "source": [
    "print(df_material) # 2개의 제품에 필요한 3가지 원료 \n",
    "print(df_profit) # 각 제품의 이익(판매 - 원가) \n",
    "print(df_stock) # 각 원료의 재고 \n",
    "print(df_plan) # 제품의 생산량 "
   ]
  },
  {
   "cell_type": "markdown",
   "metadata": {},
   "source": [
    "테크닉 65. 이익을 계산하는 함수를 만들자."
   ]
  },
  {
   "cell_type": "code",
   "execution_count": 19,
   "metadata": {},
   "outputs": [],
   "source": [
    "# 생산계획 최적화는 최적화 문제와 흐름이 동일하다. \n",
    "# 먼저 목적함수와 제약조건을 정의하고, 제약조건 아래서 목적함수를 최소화(또는 최대화)하는 변수의 조합을 찾는다. \n",
    "# 이를 이용해 이익을 계산할 함수를 만들고 그것을 목적함수로 최대화한다. "
   ]
  },
  {
   "cell_type": "code",
   "execution_count": 20,
   "metadata": {},
   "outputs": [
    {
     "name": "stdout",
     "output_type": "stream",
     "text": [
      "총 이익: 80.0\n"
     ]
    }
   ],
   "source": [
    "def product_plan(df_profit, df_plan):\n",
    "    profit = 0\n",
    "    for i in range(len(df_profit.index)):\n",
    "        for j in range(len(df_plan.columns)):\n",
    "            profit += df_profit.iloc[i][j] * df_plan.iloc[i][j]\n",
    "            # print(profit)\n",
    "        return profit\n",
    "\n",
    "print(\"총 이익: \" + str(product_plan(df_profit, df_plan)))\n",
    "\n",
    "# 총 이익은 각 제품의 이익과 제조량의 곱의 합 \n",
    "# 따라서 총 이익은 제품 2가 없으므로 80만원... \n",
    "# 제품 2를 늘리면 어느 정도 이익이 증가하게 될지 계산해보자.  "
   ]
  },
  {
   "cell_type": "markdown",
   "metadata": {},
   "source": [
    "테크닉 66. 생산 최적화 문제를 풀어보자"
   ]
  },
  {
   "cell_type": "code",
   "execution_count": 21,
   "metadata": {},
   "outputs": [],
   "source": [
    "# 정식화한 목적함수인 이익함수의 최대화를 목적으로 최적화 계산을 진행 \n",
    "# 문제를 푸는 흐름은 테크닉 61과 동일 \n",
    "\n",
    "import pandas as pd\n",
    "from pulp import LpVariable, lpSum, value\n",
    "from ortoolpy import model_max, addvars, addvals"
   ]
  },
  {
   "cell_type": "code",
   "execution_count": 22,
   "metadata": {
    "scrolled": true
   },
   "outputs": [
    {
     "name": "stdout",
     "output_type": "stream",
     "text": [
      "      생산량\n",
      "제품       \n",
      "제품1    15\n",
      "제품2     5\n",
      "총 이익: 95.0\n"
     ]
    }
   ],
   "source": [
    "df = df_material.copy()\n",
    "inv = df_stock\n",
    "\n",
    "m = model_max() # 최대화 계산 변수 선언 \n",
    "\n",
    "v1 = {(i):LpVariable('v%d'%(i), lowBound = 0) for i in range(len(df_profit))}\n",
    "# v1을 제품수와 같은 차원으로 정의 \n",
    "# v1과 제품별 이익의 곱의 합으로 목적함수 정의 \n",
    "\n",
    "m += lpSum(df_profit.iloc[i] * v1[i] for i in range(len(df_profit)))\n",
    "\n",
    "for i in range(len(df_material.columns)):\n",
    "    m += lpSum(df_material.iloc[j, i] * v1[j] for j in range(len(df_profit))) <= df_stock.iloc[:,i]\n",
    "    # print(m)\n",
    "    m.solve()\n",
    "# 제약 조건: 각 원료의 사용량이 재고를 넘지 않게 조건 정의 \n",
    "\n",
    "df_plan_sol = df_plan.copy()\n",
    "for k, x in v1.items():\n",
    "    df_plan_sol.iloc[k] = value(x)\n",
    "print(df_plan_sol)\n",
    "print(\"총 이익: \" + str(value(m.objective)))"
   ]
  },
  {
   "cell_type": "markdown",
   "metadata": {},
   "source": [
    "테크닉 67. 최적 생산 계획이 제약 조건을 만족하는지 확인하자. "
   ]
  },
  {
   "cell_type": "code",
   "execution_count": 25,
   "metadata": {},
   "outputs": [
    {
     "name": "stdout",
     "output_type": "stream",
     "text": [
      "원료1 사용량: 25.0, 재고: 40.0\n",
      "원료2 사용량: 80.0, 재고: 80.0\n",
      "원료3 사용량: 50.0, 재고: 50.0\n",
      "제약 조건 계산 결과: [1. 1. 1.]\n"
     ]
    }
   ],
   "source": [
    "def condition_stock(df_plan,df_material, df_stock):\n",
    "    flag = np.zeros(len(df_material.columns))\n",
    "    for i in range(len(df_material.columns)):\n",
    "        temp_sum = 0\n",
    "        for j in range(len(df_material.index)):\n",
    "            temp_sum = temp_sum + df_material.iloc[j][i] * float(df_plan.iloc[j])\n",
    "        if (temp_sum <= float(df_stock.iloc[0][i])):\n",
    "            flag[i] = 1\n",
    "        print(df_material.columns[i] + \" 사용량: \" + str(temp_sum) + \", 재고: \" + str(float(df_stock.iloc[0][i])))\n",
    "    return flag\n",
    "print(\"제약 조건 계산 결과: \" + str(condition_stock(df_plan_sol, df_material, df_stock)))"
   ]
  },
  {
   "cell_type": "markdown",
   "metadata": {},
   "source": [
    "테크닉 68. 물류 네트워크 설계 문제를 풀어보자. "
   ]
  },
  {
   "cell_type": "code",
   "execution_count": 26,
   "metadata": {},
   "outputs": [],
   "source": [
    "# 실제 물류 네트워크는 운송 경로와 생산 계획 최적화 문제를 동시에 고려해야 한다. \n",
    "# 운송 비용과 제조 비용이 수요를 만독하면서 최소가 되게 정식화. \n",
    "# 목적함수: 운송 비용과 제조 비용의 합 \n",
    "# 제약조건: 각 대리점의 판매 수가 수요 수를 넘는 것 \n",
    "# ortoolpy 라이브러리의 logistics_network 이용 (많이 쓰이지 않음....)"
   ]
  },
  {
   "cell_type": "code",
   "execution_count": 47,
   "metadata": {},
   "outputs": [
    {
     "name": "stdout",
     "output_type": "stream",
     "text": [
      "  대리점 공장  운송비\n",
      "0   P  X    1\n",
      "1   P  Y    2\n",
      "2   Q  X    3\n",
      "3   Q  Y    1\n",
      "  대리점 제품  수요\n",
      "0   P  A  10\n",
      "1   P  B  10\n",
      "2   Q  A  20\n",
      "3   Q  B  20\n",
      "  공장  레인 제품  하한    상한  생산비\n",
      "0  X   0  A   0   inf  1.0\n",
      "3  X   1  B   0   inf  1.0\n",
      "4  Y   0  A   0  10.0  3.0\n",
      "6  Y   1  A   0   inf  5.0\n",
      "7  Y   1  B   0   inf  3.0\n"
     ]
    }
   ],
   "source": [
    "import numpy as np \n",
    "import pandas as pd \n",
    "\n",
    "제품 = list('AB')\n",
    "대리점 = list('PQ')\n",
    "공장 = list('XY')\n",
    "레인 = (2, 2)\n",
    "\n",
    "# 운송비 \n",
    "tbdi = pd.DataFrame(((j, k) for j in 수요지 for k in 공장), columns = ['대리점', '공장'])\n",
    "tbdi['운송비'] = [1,2,3,1]\n",
    "print(tbdi)\n",
    "\n",
    "# 수요 \n",
    "tbde = pd.DataFrame(((j, i) for j in 수요지 for i in 제품), columns = ['대리점', '제품'])\n",
    "tbde['수요'] = [10,10,20,20]\n",
    "print(tbde)\n",
    "\n",
    "# 생산 \n",
    "tbfa = pd.DataFrame(((k, l, i, 0, np.inf) for k, nl in zip (공장, 레인) for l in range(nl) for i in 제품), columns = ['공장', '레인', '제품', '하한', '상한'])\n",
    "tbfa['생산비'] = [1,np.nan,np.nan, 1,3,np.nan,5,3]\n",
    "tbfa.dropna(inplace=True)\n",
    "tbfa.loc[4,'상한'] = 10\n",
    "print(tbfa)"
   ]
  },
  {
   "cell_type": "code",
   "execution_count": 44,
   "metadata": {},
   "outputs": [
    {
     "name": "stdout",
     "output_type": "stream",
     "text": [
      "  공장  레인 제품  하한    상한  생산비     VarY  ValY\n",
      "0  X   0  A   0   inf  1.0  v000061  20.0\n",
      "3  X   1  B   0   inf  1.0  v000062  10.0\n",
      "4  Y   0  A   0  10.0  3.0  v000063  10.0\n",
      "6  Y   1  A   0   inf  5.0  v000064   0.0\n",
      "7  Y   1  B   0   inf  3.0  v000065  20.0\n",
      "  대리점 공장  운송비 제품     VarX  ValX\n",
      "0   P  X    1  A  v000053  10.0\n",
      "1   P  X    1  B  v000054  10.0\n",
      "2   Q  X    3  A  v000055  10.0\n",
      "3   Q  X    3  B  v000056   0.0\n",
      "4   P  Y    2  A  v000057   0.0\n",
      "5   P  Y    2  B  v000058   0.0\n",
      "6   Q  Y    1  A  v000059  10.0\n",
      "7   Q  Y    1  B  v000060  20.0\n"
     ]
    }
   ],
   "source": [
    "from ortoolpy import logistics_network\n",
    "_, tbdi2,_ = logistics_network(tbde, tbdi, tbfa,dep = \"대리점\", dem=\"수요\",\n",
    "                              fac = \"공장\", prd = '제품', tcs = \"운송비\", \n",
    "                               pcs = \"생산비\",lwb='하한',upb='상한')\n",
    "\n",
    "print(tbfa)\n",
    "print(tbdi2)\n",
    "\n",
    "\n",
    "# VarY - 최적 생산량 저장, ValX = 최적 운송량 저장 "
   ]
  },
  {
   "cell_type": "markdown",
   "metadata": {},
   "source": [
    "테크닉 69. 최적 네트워크의 운송 비용과 그 내역을 계산하자 "
   ]
  },
  {
   "cell_type": "code",
   "execution_count": 45,
   "metadata": {},
   "outputs": [
    {
     "data": {
      "text/html": [
       "<div>\n",
       "<style scoped>\n",
       "    .dataframe tbody tr th:only-of-type {\n",
       "        vertical-align: middle;\n",
       "    }\n",
       "\n",
       "    .dataframe tbody tr th {\n",
       "        vertical-align: top;\n",
       "    }\n",
       "\n",
       "    .dataframe thead th {\n",
       "        text-align: right;\n",
       "    }\n",
       "</style>\n",
       "<table border=\"1\" class=\"dataframe\">\n",
       "  <thead>\n",
       "    <tr style=\"text-align: right;\">\n",
       "      <th></th>\n",
       "      <th>공장</th>\n",
       "      <th>대리점</th>\n",
       "      <th>운송비</th>\n",
       "      <th>제품</th>\n",
       "      <th>VarX</th>\n",
       "      <th>ValX</th>\n",
       "    </tr>\n",
       "  </thead>\n",
       "  <tbody>\n",
       "    <tr>\n",
       "      <th>0</th>\n",
       "      <td>X</td>\n",
       "      <td>P</td>\n",
       "      <td>1</td>\n",
       "      <td>A</td>\n",
       "      <td>v000053</td>\n",
       "      <td>10.0</td>\n",
       "    </tr>\n",
       "    <tr>\n",
       "      <th>1</th>\n",
       "      <td>X</td>\n",
       "      <td>P</td>\n",
       "      <td>1</td>\n",
       "      <td>B</td>\n",
       "      <td>v000054</td>\n",
       "      <td>10.0</td>\n",
       "    </tr>\n",
       "    <tr>\n",
       "      <th>2</th>\n",
       "      <td>X</td>\n",
       "      <td>Q</td>\n",
       "      <td>3</td>\n",
       "      <td>A</td>\n",
       "      <td>v000055</td>\n",
       "      <td>10.0</td>\n",
       "    </tr>\n",
       "    <tr>\n",
       "      <th>3</th>\n",
       "      <td>X</td>\n",
       "      <td>Q</td>\n",
       "      <td>3</td>\n",
       "      <td>B</td>\n",
       "      <td>v000056</td>\n",
       "      <td>0.0</td>\n",
       "    </tr>\n",
       "    <tr>\n",
       "      <th>4</th>\n",
       "      <td>Y</td>\n",
       "      <td>P</td>\n",
       "      <td>2</td>\n",
       "      <td>A</td>\n",
       "      <td>v000057</td>\n",
       "      <td>0.0</td>\n",
       "    </tr>\n",
       "    <tr>\n",
       "      <th>5</th>\n",
       "      <td>Y</td>\n",
       "      <td>P</td>\n",
       "      <td>2</td>\n",
       "      <td>B</td>\n",
       "      <td>v000058</td>\n",
       "      <td>0.0</td>\n",
       "    </tr>\n",
       "    <tr>\n",
       "      <th>6</th>\n",
       "      <td>Y</td>\n",
       "      <td>Q</td>\n",
       "      <td>1</td>\n",
       "      <td>A</td>\n",
       "      <td>v000059</td>\n",
       "      <td>10.0</td>\n",
       "    </tr>\n",
       "    <tr>\n",
       "      <th>7</th>\n",
       "      <td>Y</td>\n",
       "      <td>Q</td>\n",
       "      <td>1</td>\n",
       "      <td>B</td>\n",
       "      <td>v000060</td>\n",
       "      <td>20.0</td>\n",
       "    </tr>\n",
       "  </tbody>\n",
       "</table>\n",
       "</div>"
      ],
      "text/plain": [
       "  공장 대리점  운송비 제품     VarX  ValX\n",
       "0  X   P    1  A  v000053  10.0\n",
       "1  X   P    1  B  v000054  10.0\n",
       "2  X   Q    3  A  v000055  10.0\n",
       "3  X   Q    3  B  v000056   0.0\n",
       "4  Y   P    2  A  v000057   0.0\n",
       "5  Y   P    2  B  v000058   0.0\n",
       "6  Y   Q    1  A  v000059  10.0\n",
       "7  Y   Q    1  B  v000060  20.0"
      ]
     },
     "execution_count": 45,
     "metadata": {},
     "output_type": "execute_result"
    }
   ],
   "source": [
    "# 위 테크닉 68에서 뽑아낸 정보가 타당한지 확인하기 \n",
    "# 운송비용 = '운송비' 칼럼 * ValX(운송량) \n",
    "\n",
    "tbdi2 = tbdi2[['공장','대리점','운송비','제품','VarX','ValX']]\n",
    "tbdi2"
   ]
  },
  {
   "cell_type": "code",
   "execution_count": 48,
   "metadata": {},
   "outputs": [
    {
     "name": "stdout",
     "output_type": "stream",
     "text": [
      "총 운송비: 80.0\n"
     ]
    }
   ],
   "source": [
    "trans_cost = 0\n",
    "for i in range(len(tbdi2.index)):\n",
    "    trans_cost += tbdi2[\"운송비\"].iloc[i] * tbdi2[\"ValX\"].iloc[i]\n",
    "print(\"총 운송비: \" + str(trans_cost))"
   ]
  },
  {
   "cell_type": "markdown",
   "metadata": {},
   "source": [
    "테크닉 70. 최적 네트워크의 생산 비용과 그 내역을 계산하자"
   ]
  },
  {
   "cell_type": "code",
   "execution_count": 50,
   "metadata": {},
   "outputs": [
    {
     "ename": "KeyError",
     "evalue": "'ValY'",
     "output_type": "error",
     "traceback": [
      "\u001b[1;31m---------------------------------------------------------------------------\u001b[0m",
      "\u001b[1;31mKeyError\u001b[0m                                  Traceback (most recent call last)",
      "\u001b[1;32m~\\anaconda3\\lib\\site-packages\\pandas\\core\\indexes\\base.py\u001b[0m in \u001b[0;36mget_loc\u001b[1;34m(self, key, method, tolerance)\u001b[0m\n\u001b[0;32m   3079\u001b[0m             \u001b[1;32mtry\u001b[0m\u001b[1;33m:\u001b[0m\u001b[1;33m\u001b[0m\u001b[1;33m\u001b[0m\u001b[0m\n\u001b[1;32m-> 3080\u001b[1;33m                 \u001b[1;32mreturn\u001b[0m \u001b[0mself\u001b[0m\u001b[1;33m.\u001b[0m\u001b[0m_engine\u001b[0m\u001b[1;33m.\u001b[0m\u001b[0mget_loc\u001b[0m\u001b[1;33m(\u001b[0m\u001b[0mcasted_key\u001b[0m\u001b[1;33m)\u001b[0m\u001b[1;33m\u001b[0m\u001b[1;33m\u001b[0m\u001b[0m\n\u001b[0m\u001b[0;32m   3081\u001b[0m             \u001b[1;32mexcept\u001b[0m \u001b[0mKeyError\u001b[0m \u001b[1;32mas\u001b[0m \u001b[0merr\u001b[0m\u001b[1;33m:\u001b[0m\u001b[1;33m\u001b[0m\u001b[1;33m\u001b[0m\u001b[0m\n",
      "\u001b[1;32mpandas\\_libs\\index.pyx\u001b[0m in \u001b[0;36mpandas._libs.index.IndexEngine.get_loc\u001b[1;34m()\u001b[0m\n",
      "\u001b[1;32mpandas\\_libs\\index.pyx\u001b[0m in \u001b[0;36mpandas._libs.index.IndexEngine.get_loc\u001b[1;34m()\u001b[0m\n",
      "\u001b[1;32mpandas\\_libs\\hashtable_class_helper.pxi\u001b[0m in \u001b[0;36mpandas._libs.hashtable.PyObjectHashTable.get_item\u001b[1;34m()\u001b[0m\n",
      "\u001b[1;32mpandas\\_libs\\hashtable_class_helper.pxi\u001b[0m in \u001b[0;36mpandas._libs.hashtable.PyObjectHashTable.get_item\u001b[1;34m()\u001b[0m\n",
      "\u001b[1;31mKeyError\u001b[0m: 'ValY'",
      "\nThe above exception was the direct cause of the following exception:\n",
      "\u001b[1;31mKeyError\u001b[0m                                  Traceback (most recent call last)",
      "\u001b[1;32m<ipython-input-50-899cdbbea967>\u001b[0m in \u001b[0;36m<module>\u001b[1;34m\u001b[0m\n\u001b[0;32m      3\u001b[0m \u001b[0mproduct_cost\u001b[0m \u001b[1;33m=\u001b[0m \u001b[1;36m0\u001b[0m\u001b[1;33m\u001b[0m\u001b[1;33m\u001b[0m\u001b[0m\n\u001b[0;32m      4\u001b[0m \u001b[1;32mfor\u001b[0m \u001b[0mi\u001b[0m \u001b[1;32min\u001b[0m \u001b[0mrange\u001b[0m\u001b[1;33m(\u001b[0m\u001b[0mlen\u001b[0m\u001b[1;33m(\u001b[0m\u001b[0mtbfa\u001b[0m\u001b[1;33m.\u001b[0m\u001b[0mindex\u001b[0m\u001b[1;33m)\u001b[0m\u001b[1;33m)\u001b[0m \u001b[1;33m:\u001b[0m\u001b[1;33m\u001b[0m\u001b[1;33m\u001b[0m\u001b[0m\n\u001b[1;32m----> 5\u001b[1;33m     \u001b[0mproduct_cost\u001b[0m \u001b[1;33m+=\u001b[0m \u001b[0mtbfa\u001b[0m\u001b[1;33m[\u001b[0m\u001b[1;34m\"생산비\"\u001b[0m\u001b[1;33m]\u001b[0m\u001b[1;33m.\u001b[0m\u001b[0miloc\u001b[0m\u001b[1;33m[\u001b[0m\u001b[0mi\u001b[0m\u001b[1;33m]\u001b[0m\u001b[1;33m*\u001b[0m\u001b[0mtbfa\u001b[0m\u001b[1;33m[\u001b[0m\u001b[1;34m\"ValY\"\u001b[0m\u001b[1;33m]\u001b[0m\u001b[1;33m.\u001b[0m\u001b[0miloc\u001b[0m\u001b[1;33m[\u001b[0m\u001b[0mi\u001b[0m\u001b[1;33m]\u001b[0m\u001b[1;33m\u001b[0m\u001b[1;33m\u001b[0m\u001b[0m\n\u001b[0m\u001b[0;32m      6\u001b[0m \u001b[1;33m\u001b[0m\u001b[0m\n\u001b[0;32m      7\u001b[0m \u001b[0mprint\u001b[0m\u001b[1;33m(\u001b[0m\u001b[1;34m\"총 생산비:\"\u001b[0m\u001b[1;33m+\u001b[0m\u001b[0mstr\u001b[0m\u001b[1;33m(\u001b[0m\u001b[0mproduct_cost\u001b[0m\u001b[1;33m)\u001b[0m\u001b[1;33m)\u001b[0m\u001b[1;33m\u001b[0m\u001b[1;33m\u001b[0m\u001b[0m\n",
      "\u001b[1;32m~\\anaconda3\\lib\\site-packages\\pandas\\core\\frame.py\u001b[0m in \u001b[0;36m__getitem__\u001b[1;34m(self, key)\u001b[0m\n\u001b[0;32m   3022\u001b[0m             \u001b[1;32mif\u001b[0m \u001b[0mself\u001b[0m\u001b[1;33m.\u001b[0m\u001b[0mcolumns\u001b[0m\u001b[1;33m.\u001b[0m\u001b[0mnlevels\u001b[0m \u001b[1;33m>\u001b[0m \u001b[1;36m1\u001b[0m\u001b[1;33m:\u001b[0m\u001b[1;33m\u001b[0m\u001b[1;33m\u001b[0m\u001b[0m\n\u001b[0;32m   3023\u001b[0m                 \u001b[1;32mreturn\u001b[0m \u001b[0mself\u001b[0m\u001b[1;33m.\u001b[0m\u001b[0m_getitem_multilevel\u001b[0m\u001b[1;33m(\u001b[0m\u001b[0mkey\u001b[0m\u001b[1;33m)\u001b[0m\u001b[1;33m\u001b[0m\u001b[1;33m\u001b[0m\u001b[0m\n\u001b[1;32m-> 3024\u001b[1;33m             \u001b[0mindexer\u001b[0m \u001b[1;33m=\u001b[0m \u001b[0mself\u001b[0m\u001b[1;33m.\u001b[0m\u001b[0mcolumns\u001b[0m\u001b[1;33m.\u001b[0m\u001b[0mget_loc\u001b[0m\u001b[1;33m(\u001b[0m\u001b[0mkey\u001b[0m\u001b[1;33m)\u001b[0m\u001b[1;33m\u001b[0m\u001b[1;33m\u001b[0m\u001b[0m\n\u001b[0m\u001b[0;32m   3025\u001b[0m             \u001b[1;32mif\u001b[0m \u001b[0mis_integer\u001b[0m\u001b[1;33m(\u001b[0m\u001b[0mindexer\u001b[0m\u001b[1;33m)\u001b[0m\u001b[1;33m:\u001b[0m\u001b[1;33m\u001b[0m\u001b[1;33m\u001b[0m\u001b[0m\n\u001b[0;32m   3026\u001b[0m                 \u001b[0mindexer\u001b[0m \u001b[1;33m=\u001b[0m \u001b[1;33m[\u001b[0m\u001b[0mindexer\u001b[0m\u001b[1;33m]\u001b[0m\u001b[1;33m\u001b[0m\u001b[1;33m\u001b[0m\u001b[0m\n",
      "\u001b[1;32m~\\anaconda3\\lib\\site-packages\\pandas\\core\\indexes\\base.py\u001b[0m in \u001b[0;36mget_loc\u001b[1;34m(self, key, method, tolerance)\u001b[0m\n\u001b[0;32m   3080\u001b[0m                 \u001b[1;32mreturn\u001b[0m \u001b[0mself\u001b[0m\u001b[1;33m.\u001b[0m\u001b[0m_engine\u001b[0m\u001b[1;33m.\u001b[0m\u001b[0mget_loc\u001b[0m\u001b[1;33m(\u001b[0m\u001b[0mcasted_key\u001b[0m\u001b[1;33m)\u001b[0m\u001b[1;33m\u001b[0m\u001b[1;33m\u001b[0m\u001b[0m\n\u001b[0;32m   3081\u001b[0m             \u001b[1;32mexcept\u001b[0m \u001b[0mKeyError\u001b[0m \u001b[1;32mas\u001b[0m \u001b[0merr\u001b[0m\u001b[1;33m:\u001b[0m\u001b[1;33m\u001b[0m\u001b[1;33m\u001b[0m\u001b[0m\n\u001b[1;32m-> 3082\u001b[1;33m                 \u001b[1;32mraise\u001b[0m \u001b[0mKeyError\u001b[0m\u001b[1;33m(\u001b[0m\u001b[0mkey\u001b[0m\u001b[1;33m)\u001b[0m \u001b[1;32mfrom\u001b[0m \u001b[0merr\u001b[0m\u001b[1;33m\u001b[0m\u001b[1;33m\u001b[0m\u001b[0m\n\u001b[0m\u001b[0;32m   3083\u001b[0m \u001b[1;33m\u001b[0m\u001b[0m\n\u001b[0;32m   3084\u001b[0m         \u001b[1;32mif\u001b[0m \u001b[0mtolerance\u001b[0m \u001b[1;32mis\u001b[0m \u001b[1;32mnot\u001b[0m \u001b[1;32mNone\u001b[0m\u001b[1;33m:\u001b[0m\u001b[1;33m\u001b[0m\u001b[1;33m\u001b[0m\u001b[0m\n",
      "\u001b[1;31mKeyError\u001b[0m: 'ValY'"
     ]
    }
   ],
   "source": [
    "# 생산비용 = '샌산비' 칼럼 * ValY(최적 생산량)\n",
    "\n",
    "product_cost = 0\n",
    "for i in range(len(tbfa.index)) :\n",
    "    product_cost += tbfa[\"생산비\"].iloc[i]*tbfa[\"ValY\"].iloc[i]\n",
    "    \n",
    "print(\"총 생산비:\"+str(product_cost))"
   ]
  },
  {
   "cell_type": "code",
   "execution_count": null,
   "metadata": {},
   "outputs": [],
   "source": []
  }
 ],
 "metadata": {
  "kernelspec": {
   "display_name": "Python 3",
   "language": "python",
   "name": "python3"
  },
  "language_info": {
   "codemirror_mode": {
    "name": "ipython",
    "version": 3
   },
   "file_extension": ".py",
   "mimetype": "text/x-python",
   "name": "python",
   "nbconvert_exporter": "python",
   "pygments_lexer": "ipython3",
   "version": "3.8.5"
  }
 },
 "nbformat": 4,
 "nbformat_minor": 4
}
